{
 "cells": [
  {
   "cell_type": "markdown",
   "id": "39e00d56",
   "metadata": {},
   "source": [
    "# Ejecución de pruebas sobre QUIJOTE\n",
    "\n",
    "En el siguiente código se generan los mapas necesarios y se ejecutan las pruebas sobre los mapas de QUIJOTE a diferentes frecuencias"
   ]
  },
  {
   "cell_type": "code",
   "execution_count": 11,
   "id": "0065391d-625b-47e7-91e7-a68cb780d44a",
   "metadata": {
    "tags": []
   },
   "outputs": [],
   "source": [
    "import pandas as pd\n",
    "import numpy as np\n",
    "import astropy\n",
    "import healpy as hp\n",
    "import tensorflow as tf\n",
    "import tools\n",
    "import numpy as np\n",
    "import pandas as pd\n",
    "from scipy.stats import bootstrap\n",
    "from tensorflow.keras.preprocessing.image import img_to_array, load_img\n",
    "import os\n",
    "import tensorflow as tf"
   ]
  },
  {
   "cell_type": "markdown",
   "id": "2a61ca08",
   "metadata": {},
   "source": [
    "## Carga de mapas\n",
    "\n",
    "Se cargan los mapas de QUIJOTE en todas las frecuencias y se les aplica el suavizado necesario"
   ]
  },
  {
   "cell_type": "code",
   "execution_count": 12,
   "id": "4a5fae01-9440-4291-8b46-e1aae0fb16f3",
   "metadata": {
    "tags": []
   },
   "outputs": [
    {
     "name": "stderr",
     "output_type": "stream",
     "text": [
      "/home/studio-lab-user/testcode/code/tools.py:23: HealpyDeprecationWarning: \"verbose\" was deprecated in version 1.15.0 and will be removed in a future version. \n",
      "  mapa_cmb, header = hp.read_map(ruta_archivo_fits, field=campo, h=True, verbose=False)\n"
     ]
    }
   ],
   "source": [
    "mapa11 = tools.leer_mapa('../datasets/quijote/quijote11.fits')\n",
    "mapa13 = tools.leer_mapa('../datasets/quijote/quijote13.fits')\n",
    "mapa17 = tools.leer_mapa('../datasets/quijote/quijote17.fits')\n",
    "mapa19 = tools.leer_mapa('../datasets/quijote/quijote19.fits')\n",
    "fwhm_degrees = 0.917 \n",
    "fwhm_radians = np.deg2rad(fwhm_degrees)\n",
    "# Suavizar el mapa\n",
    "mapa11 = hp.smoothing(mapa11, fwhm=fwhm_radians)\n",
    "fwhm_degrees = 0.917 \n",
    "fwhm_radians = np.deg2rad(fwhm_degrees)\n",
    "# Suavizar el mapa\n",
    "mapa13 = hp.smoothing(mapa13, fwhm=fwhm_radians)\n",
    "fwhm_degrees = 0.6491\n",
    "fwhm_radians = np.deg2rad(fwhm_degrees)\n",
    "# Suavizar el mapa\n",
    "mapa17 = hp.smoothing(mapa17, fwhm=fwhm_radians)\n",
    "fwhm_degrees = 0.672\n",
    "fwhm_radians = np.deg2rad(fwhm_degrees)\n",
    "# Suavizar el mapa\n",
    "mapa19 = hp.smoothing(mapa19, fwhm=fwhm_radians)"
   ]
  },
  {
   "cell_type": "markdown",
   "id": "b69478f4",
   "metadata": {},
   "source": [
    "## Carga de catálogos\n",
    "\n",
    "Se cargan los catálogos principales y extendidos de QUIJOTE, estos catálogos no se dividen en frecuencias"
   ]
  },
  {
   "cell_type": "code",
   "execution_count": 13,
   "id": "a9abe240-b32c-4eaf-bb3c-c5a50edffba7",
   "metadata": {
    "tags": []
   },
   "outputs": [],
   "source": [
    "main = pd.read_csv('../datasets/quijote/catalogoQui2.csv',sep =';')\n",
    "ext = pd.read_csv('../datasets/quijote/catalogoQui.csv',sep =';')"
   ]
  },
  {
   "cell_type": "markdown",
   "id": "b2ff39aa",
   "metadata": {},
   "source": [
    "## Generación de imágenes\n",
    "\n",
    "Se utiliza la función generadora de imágenes y se adapta a QUIJOTE. Se aplica sobre los cuatro mapas para ambos catálogos y se guardan en un directorio"
   ]
  },
  {
   "cell_type": "code",
   "execution_count": 14,
   "id": "3b11a624-b817-47d9-933f-109f59d15071",
   "metadata": {
    "tags": []
   },
   "outputs": [],
   "source": [
    "def quijote_image_generator(mapa,catalogue,path):\n",
    "    for glat,glon,name in zip(catalogue.glat,catalogue.glon,catalogue.name):\n",
    "            img = tools.extraer_submapa_cmb(mapa,lat = glat,lon = glon,N = 64,res = 6.86,vmin = None, retornar_imagen=True)\n",
    "             # Accede a la máscara\n",
    "            tools.guardar_imagen_jpg(img,f'{path}/{name}.jpg')"
   ]
  },
  {
   "cell_type": "code",
   "execution_count": null,
   "id": "e96917fc-a4f5-4b9c-96bd-e6428b5d9865",
   "metadata": {},
   "outputs": [],
   "source": [
    "quijote_image_generator(mapa11,ext,'../images/quijote/images_quijote_11_ext')\n",
    "quijote_image_generator(mapa13,ext,'../images/quijote/images_quijote_13_ext/')\n",
    "quijote_image_generator(mapa17,ext,'../images/quijote/images_quijote_17_ext/')\n",
    "quijote_image_generator(mapa19,ext,'../images/quijote/images_quijotek_19_ext/')"
   ]
  },
  {
   "cell_type": "code",
   "execution_count": 16,
   "id": "6cdcde6e-aa9c-4d2b-9ec5-01d373c0c237",
   "metadata": {
    "tags": []
   },
   "outputs": [],
   "source": [
    "quijote_image_generator(mapa11,main,'../images/quijote/images_quijote_11/')\n",
    "quijote_image_generator(mapa13,main,'../images/quijote/images_quijote_13/')\n",
    "quijote_image_generator(mapa17,main,'../images/quijote/images_quijote_17/')\n",
    "quijote_image_generator(mapa19,main,'../images/quijote/images_quijote_19/')"
   ]
  },
  {
   "cell_type": "code",
   "execution_count": 17,
   "id": "3bc5995e-4278-47b1-8518-a126ffe08f7a",
   "metadata": {},
   "outputs": [],
   "source": [
    "model = tf.keras.models.load_model('../models/MCD1504_6.h5')"
   ]
  },
  {
   "cell_type": "markdown",
   "id": "61157364",
   "metadata": {},
   "source": [
    "activar la GPU en caso de que se pueda"
   ]
  },
  {
   "cell_type": "code",
   "execution_count": 18,
   "id": "68a38826-0363-4b14-b059-9012e17a2290",
   "metadata": {
    "tags": []
   },
   "outputs": [
    {
     "name": "stdout",
     "output_type": "stream",
     "text": [
      "GPUs disponibles:  1\n",
      "Physical devices cannot be modified after being initialized\n"
     ]
    }
   ],
   "source": [
    "\n",
    "\n",
    "# Verifica la disponibilidad de GPUs\n",
    "gpus = tf.config.experimental.list_physical_devices('GPU')\n",
    "print(\"GPUs disponibles: \", len(gpus))\n",
    "\n",
    "# Configura TensorFlow para que use la GPU si está disponible\n",
    "if gpus:\n",
    "    try:\n",
    "        # Establece la memoria de la GPU para que crezca según sea necesario.\n",
    "        # Esto puede prevenir errores de asignación de memoria en TensorFlow.\n",
    "        for gpu in gpus:\n",
    "            tf.config.experimental.set_memory_growth(gpu, True)\n",
    "    except RuntimeError as e:\n",
    "        print(e)"
   ]
  },
  {
   "cell_type": "markdown",
   "id": "c085cbab",
   "metadata": {},
   "source": [
    "## Ejecución de pruebas\n",
    "\n",
    "En la siguiente función se definen las simulaciones de Monte Carlo de la misma manera que para Planck y posteriormente se adapta para poder ejecutarla en todos los modelos pudiendo seleccionar la frecuencia"
   ]
  },
  {
   "cell_type": "markdown",
   "id": "69863ff3-97df-4ec4-b13f-0f9fb8a1ff39",
   "metadata": {},
   "source": [
    "La función MCDQui realiza inferencias utilizando el método MC Dropout sobre un conjunto de imágenes. MC Dropout se usa para estimar la incertidumbre en las predicciones del modlo, realizando múltiples pasadas de Dropout durante la inferencia."
   ]
  },
  {
   "cell_type": "code",
   "execution_count": 30,
   "id": "97900ddb-de9b-4051-a8ff-94e8437b15d8",
   "metadata": {},
   "outputs": [],
   "source": [
    "import os\n",
    "import numpy as np\n",
    "import pandas as pd\n",
    "from tensorflow.keras.preprocessing.image import load_img, img_to_array\n",
    "\n",
    "# Número de pasadas de MC Dropout por imagen\n",
    "# Para almacenar los resultados\n",
    "def MCDQui(n_iter, path, model, data):\n",
    "    resultados = []  # Lista para almacenar los resultados\n",
    "\n",
    "    # Iterar sobre cada nombre de imagen en el DataFrame\n",
    "    for name in data.name:\n",
    "        try:\n",
    "            # Construir la ruta completa del archivo de imagen\n",
    "            filename = f'{name}.jpg'\n",
    "            ruta_imagen = os.path.join(path, filename)\n",
    "            \n",
    "            # Cargar y preprocesar la imagen\n",
    "            imagen = load_img(ruta_imagen, target_size=(150, 150))  # Ajusta el tamaño según tu modelo\n",
    "            imagen = img_to_array(imagen) / 255.0  # Reescala si tu modelo lo requiere\n",
    "            imagen = np.expand_dims(imagen, axis=0)  # Ajusta la forma para el modelo\n",
    "\n",
    "            # Realizar n_iter pasadas de MC Dropout\n",
    "            predicciones = np.array([model(imagen, training=True)[0] for _ in range(n_iter)])\n",
    "\n",
    "            # Calcular estadísticas\n",
    "            media = np.mean(predicciones, axis=0)\n",
    "            std = np.std(predicciones, axis=0)\n",
    "\n",
    "            # Guardar resultados\n",
    "            resultados.append({\n",
    "                'name': name,\n",
    "                'media': media,\n",
    "                'std': std,\n",
    "            })\n",
    "        except FileNotFoundError:\n",
    "            continue  # Si la imagen no se encuentra, se omite y se continúa con la siguiente\n",
    "\n",
    "    # Convertir la lista de resultados en un DataFrame\n",
    "    df_resultados = pd.DataFrame(resultados)\n",
    "    \n",
    "    return df_resultados\n"
   ]
  },
  {
   "cell_type": "code",
   "execution_count": 31,
   "id": "9260ccb2-d479-4cc6-9330-4d3c3a23184c",
   "metadata": {},
   "outputs": [],
   "source": [
    "def test_quijote(frec):\n",
    "    names = []\n",
    "    accs = []\n",
    "    for file_name in os.listdir('../models/'):\n",
    "            # Filtrar por archivos .h5 que no contienen 'VI' en su nombre\n",
    "        if file_name.endswith('.h5') and 'VI' not in file_name:\n",
    "            # Cargar el modelo de Keras\n",
    "            model_path = os.path.join('../models/', file_name)\n",
    "            model = tf.keras.models.load_model(model_path)\n",
    "            #Ejecución de la simulación\n",
    "            qui = MCDQui(2,f'../images/quijote/images_quijote_{frec}/',model,main)\n",
    "            # Crear el DataFrame del resumen del modelo\n",
    "            qui['OK'] = np.where(qui.media > 0.5,1,0)\n",
    "            name  = file_name.replace('.h5', '')\n",
    "            acc = len(qui.loc[qui.OK == 1])/len(qui)\n",
    "            names.append(name)\n",
    "            accs.append(acc)\n",
    "            df = pd.DataFrame({'model':names,'Accuracy': accs})\n",
    "    return df\n",
    "        \n"
   ]
  },
  {
   "cell_type": "markdown",
   "id": "61060fbd-435d-4b2d-84f1-0fc24e47444b",
   "metadata": {
    "tags": []
   },
   "source": [
    "## Ejecución de simulaciones en todos los modelos\n",
    "\n",
    "Para evaluar el rendimiento de todos los modelos sobre QUIJOTE se ejecuta la función anterior en las 4 frecuencias"
   ]
  },
  {
   "cell_type": "code",
   "execution_count": null,
   "id": "2aca0ff0-2584-4de0-942b-91ec27705f8f",
   "metadata": {},
   "outputs": [],
   "source": [
    "test11 = test_quijote(11)\n",
    "test13 = test_quijote(13)\n",
    "test17 = test_quijote(17)\n",
    "test19 = test_quijote(19)"
   ]
  },
  {
   "cell_type": "code",
   "execution_count": 14,
   "id": "e3a1c929-de32-41e2-b78a-c3b81e655f92",
   "metadata": {
    "tags": []
   },
   "outputs": [],
   "source": [
    "test11 = test11.rename(columns = {'Accuracy':'Accuracy 11 GHz'})\n",
    "test13 = test13.rename(columns = {'Accuracy':'Accuracy 13 GHz'})\n",
    "test17 = test17.rename(columns = {'Accuracy':'Accuracy 17 GHz'})\n",
    "test19 = test19.rename(columns = {'Accuracy':'Accuracy 19 GHz'})"
   ]
  },
  {
   "cell_type": "code",
   "execution_count": 15,
   "id": "a4b78b34-a0ea-47d3-af33-fca45507bb03",
   "metadata": {
    "tags": []
   },
   "outputs": [],
   "source": [
    "test = pd.merge(test11,test13,on = 'model')\n",
    "test = pd.merge(test,test17,on = 'model')\n",
    "test = pd.merge(test,test19,on = 'model')"
   ]
  },
  {
   "cell_type": "code",
   "execution_count": 23,
   "id": "c57109e4-e611-4936-88f1-88ee2695d451",
   "metadata": {
    "tags": []
   },
   "outputs": [],
   "source": [
    "test['Accuracy'] = test.apply(lambda row: np.mean([row['Accuracy 11 GHz'], \n",
    "                                                   row['Accuracy 13 GHz'], \n",
    "                                                   row['Accuracy 17 GHz'], \n",
    "                                                   row['Accuracy 19 GHz']]), axis=1)"
   ]
  },
  {
   "cell_type": "code",
   "execution_count": 27,
   "id": "f3145370-30dc-4f51-a950-42c2504caf6b",
   "metadata": {
    "tags": []
   },
   "outputs": [],
   "source": [
    "test = test.sort_values(by = 'Accuracy', ascending = False)"
   ]
  },
  {
   "cell_type": "code",
   "execution_count": 31,
   "id": "b10f9ec8-5acc-41ee-a91e-0abdb8a8af9b",
   "metadata": {
    "tags": []
   },
   "outputs": [],
   "source": [
    "test.to_csv('../experiments/results/quijote/test_qui.csv',sep = ';')"
   ]
  },
  {
   "cell_type": "markdown",
   "id": "a8967955",
   "metadata": {},
   "source": [
    "## Simulaciones con el modelo final\n",
    "\n",
    "Se realiza una última prueba con más iteraciones con el modelo final para obtener medidas más fiables sobre la media y la incertidumbre"
   ]
  },
  {
   "cell_type": "code",
   "execution_count": null,
   "id": "2957ef6b-fc6c-445c-8546-69835e9a88b6",
   "metadata": {},
   "outputs": [],
   "source": [
    "results11_ext = MCDQui(200,'..images/quijote/images_quijote_11_ext/',model,main)\n",
    "results11 = MCDQui(200,'..images/quijote/images_quijote_11/',model,main)\n",
    "\n",
    "results13_ext = MCDQui(200,'..images/quijote/images_quijote_13_ext/',model,ext)\n",
    "results13 = MCDQui(200,'..images/quijote/images_quijote_13/',model,main)\n",
    "\n",
    "results17_ext = MCDQui(200,'..images/quijote/images_quijote_17_ext/',model,ext)\n",
    "results17 = MCDQui(200,'..images/quijote/images_quijote_17/',model,main)\n",
    "\n",
    "results19_ext = MCDQui(200,'..images/quijote/images_quijote_19_ext/',model,ext)\n",
    "results19 = MCDQui(200,'..images/quijote/images_quijote_19/',model,main)"
   ]
  }
 ],
 "metadata": {
  "kernelspec": {
   "display_name": "default:Python",
   "language": "python",
   "name": "conda-env-default-py"
  },
  "language_info": {
   "codemirror_mode": {
    "name": "ipython",
    "version": 3
   },
   "file_extension": ".py",
   "mimetype": "text/x-python",
   "name": "python",
   "nbconvert_exporter": "python",
   "pygments_lexer": "ipython3",
   "version": "3.9.16"
  }
 },
 "nbformat": 4,
 "nbformat_minor": 5
}
